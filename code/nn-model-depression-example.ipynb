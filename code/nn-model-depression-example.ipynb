{
 "cells": [
  {
   "cell_type": "code",
   "execution_count": 1,
   "metadata": {},
   "outputs": [],
   "source": [
    "# set up a GPU\n",
    "import os\n",
    "os.environ[\"CUDA_DEVICE_ORDER\"]=\"PCI_BUS_ID\" \n",
    "os.environ[\"CUDA_VISIBLE_DEVICES\"]=\"0, 1\""
   ]
  },
  {
   "cell_type": "code",
   "execution_count": 2,
   "metadata": {},
   "outputs": [],
   "source": [
    "import numpy as np\n",
    "import pandas as pd\n",
    "import torch\n",
    "from torch.utils.data import Dataset, DataLoader\n",
    "import torch.nn as nn"
   ]
  },
  {
   "cell_type": "code",
   "execution_count": 3,
   "metadata": {},
   "outputs": [
    {
     "name": "stdout",
     "output_type": "stream",
     "text": [
      "Using -- cuda\n"
     ]
    }
   ],
   "source": [
    "# test GPU working (output should be \"Using -- cuda\")\n",
    "device = torch.device('cuda' if torch.cuda.is_available() else 'cpu')\n",
    "print( \"Using --\", device )"
   ]
  },
  {
   "cell_type": "code",
   "execution_count": 4,
   "metadata": {},
   "outputs": [],
   "source": [
    "# prepare data\n",
    "class GenDataset( Dataset ):\n",
    "\n",
    "  def __init__( self, filepath, pred_vars, target_var, trainflag = True ):\n",
    "    df_csv = pd.read_csv( filepath, index_col=0)\n",
    "\n",
    "    if( trainflag == True ):\n",
    "      # extract and build the training data ...\n",
    "      df = df_csv.loc[ df_csv[\"train\"] == 1, : ]\n",
    "    else:\n",
    "      # extract and build test data ...\n",
    "      df = df_csv.loc[ df_csv[\"train\"] == 0, : ]\n",
    "    \n",
    "    x = df.loc[:, pred_vars ].values   # predictor variables \n",
    "    y = df.loc[:, target_var].values     # target\n",
    "\n",
    "    self.x = torch.tensor( x, dtype = torch.float32 )\n",
    "    self.y = torch.tensor( y, dtype = torch.float32 )\n",
    "\n",
    "  def __len__(self):\n",
    "    return len( self.y )\n",
    "\n",
    "  def __getitem__( self, idx ):\n",
    "    return self.x[idx], self.y[idx]\n",
    "\n",
    "\n",
    "# X, Y = make_classification(\n",
    "#   n_samples=100, n_features=4, n_redundant=0,\n",
    "#   n_informative=3,  n_clusters_per_class=2, n_classes=3\n",
    "# )"
   ]
  },
  {
   "cell_type": "code",
   "execution_count": 5,
   "metadata": {},
   "outputs": [],
   "source": [
    "# load build data set \n",
    "filename = '../sim-data/population-sample.csv'\n",
    "\n",
    "pred_vars_to_use = [\"Age\", \"Sex\", \"MDD_hx\", \"Rx_hx\", \"Py_hx\", \"Sev\", \"Dur\", \"MDD_dx\"]\n",
    "target_var_to_use = [\"Offer_Rx\"]\n",
    "\n",
    "# instantiate the data loader for the actual data\n",
    "train_data = GenDataset( filename, pred_vars_to_use, target_var_to_use, trainflag = True )\n",
    "test_data = GenDataset( filename, pred_vars_to_use, target_var_to_use, trainflag = False )\n",
    "\n"
   ]
  },
  {
   "cell_type": "code",
   "execution_count": 6,
   "metadata": {},
   "outputs": [
    {
     "name": "stdout",
     "output_type": "stream",
     "text": [
      "2643\n",
      "1116\n"
     ]
    }
   ],
   "source": [
    "print( len( train_data ) )\n",
    "print( len( test_data ) )\n",
    "\n",
    "# load into a DataLoader iterator so that accessing will return a batch at a time\n",
    "batch_size = 30\n",
    "train_loader = DataLoader(train_data, batch_size=batch_size, shuffle=True, num_workers=2)\n",
    "\n",
    "test_loader = DataLoader(test_data, batch_size= batch_size, shuffle = True, num_workers=2 )\n"
   ]
  },
  {
   "cell_type": "code",
   "execution_count": 7,
   "metadata": {},
   "outputs": [
    {
     "name": "stdout",
     "output_type": "stream",
     "text": [
      " Input size = 8\n",
      " Target size = 1\n"
     ]
    }
   ],
   "source": [
    "# establish input/output dimensions\n",
    "train_x, train_y = next(iter(train_loader))\n",
    "\n",
    "input_size = train_x[0].shape[0]\n",
    "output_size = train_y[0].shape[0]\n",
    "\n",
    "print(f\" Input size = {input_size}\")\n",
    "print(f\" Target size = {output_size}\")"
   ]
  },
  {
   "cell_type": "code",
   "execution_count": 8,
   "metadata": {},
   "outputs": [],
   "source": [
    "# network definition \n",
    "\n",
    "# number of hidden nodes\n",
    "hidden_size = 25\n",
    "\n",
    "\n",
    "# class Network2(nn.Module):\n",
    "#   def __init__(self):\n",
    "#     super(Network2, self).__init__()\n",
    "#     self.linear1 = nn.Linear(input_size, hidden_size)\n",
    "#     self.linear2 = nn.Linear(hidden_size, output_size)\n",
    "  \n",
    "#   def forward_layer1( self, x ):\n",
    "#     x = torch.sigmoid(self.linear1(x))\n",
    "#     return x\n",
    "  \n",
    "#   def forward_layer2( self, x ):\n",
    "#     x = self.linear2(x)\n",
    "#     return x \n",
    "  \n",
    "#   def forward(self, x):\n",
    "#     y = self.forward_layer1(x)\n",
    "#     y = self.forward_layer2(y)\n",
    "#     return y\n",
    "    \n",
    "\n",
    "class Network1(nn.Module):\n",
    "    def __init__(self):\n",
    "        super(Network1, self).__init__()\n",
    "        self.linear = nn.Linear(input_size, output_size)\n",
    "    \n",
    "    def forward_layer1( self, x ):\n",
    "        y = self.linear(x)\n",
    "        return y\n",
    "\n",
    "    def forward_layer2( self, x ):\n",
    "        y = torch.sigmoid(x)\n",
    "        return y \n",
    "    \n",
    "    def forward( self, x ):\n",
    "        y = self.forward_layer1( x )\n",
    "        y = self.forward_layer2( y )\n",
    "        return( y )\n",
    "\n",
    "\n"
   ]
  },
  {
   "cell_type": "code",
   "execution_count": 9,
   "metadata": {},
   "outputs": [
    {
     "name": "stdout",
     "output_type": "stream",
     "text": [
      "<bound method Module.parameters of Network1(\n",
      "  (linear): Linear(in_features=8, out_features=1, bias=True)\n",
      ")>\n"
     ]
    }
   ],
   "source": [
    "# learning params\n",
    "learn_rate = 0.01\n",
    "\n",
    "# instantiate network\n",
    "model = Network1()\n",
    "print( model.parameters )\n",
    "\n",
    "# define loss and optimizer algorithm\n",
    "criterion = nn.BCELoss(reduction = 'mean')\n",
    "optimizer = torch.optim.SGD(model.parameters(), lr=learn_rate)\n"
   ]
  },
  {
   "cell_type": "code",
   "execution_count": 10,
   "metadata": {},
   "outputs": [
    {
     "data": {
      "text/plain": [
       "Network1(\n",
       "  (linear): Linear(in_features=8, out_features=1, bias=True)\n",
       ")"
      ]
     },
     "execution_count": 10,
     "metadata": {},
     "output_type": "execute_result"
    }
   ],
   "source": [
    "# load stuff onto GPU\n",
    "model.to(device)"
   ]
  },
  {
   "cell_type": "code",
   "execution_count": 11,
   "metadata": {},
   "outputs": [
    {
     "name": "stdout",
     "output_type": "stream",
     "text": [
      "30\n"
     ]
    }
   ],
   "source": [
    "print( batch_size )"
   ]
  },
  {
   "cell_type": "code",
   "execution_count": 12,
   "metadata": {},
   "outputs": [
    {
     "name": "stdout",
     "output_type": "stream",
     "text": [
      "Completed Epoch  0\n",
      "Completed Epoch  1\n",
      "Completed Epoch  2\n",
      "Completed Epoch  3\n",
      "Completed Epoch  4\n",
      "Completed Epoch  5\n",
      "Completed Epoch  6\n",
      "Completed Epoch  7\n",
      "Completed Epoch  8\n",
      "Completed Epoch  9\n",
      "Completed Epoch  10\n",
      "Completed Epoch  11\n",
      "Completed Epoch  12\n",
      "Completed Epoch  13\n",
      "Completed Epoch  14\n",
      "Completed Epoch  15\n",
      "Completed Epoch  16\n",
      "Completed Epoch  17\n",
      "Completed Epoch  18\n",
      "Completed Epoch  19\n",
      "Completed Epoch  20\n",
      "Completed Epoch  21\n",
      "Completed Epoch  22\n",
      "Completed Epoch  23\n",
      "Completed Epoch  24\n",
      "Completed Epoch  25\n",
      "Completed Epoch  26\n",
      "Completed Epoch  27\n",
      "Completed Epoch  28\n",
      "Completed Epoch  29\n",
      "Completed Epoch  30\n",
      "Completed Epoch  31\n",
      "Completed Epoch  32\n",
      "Completed Epoch  33\n",
      "Completed Epoch  34\n",
      "Completed Epoch  35\n",
      "Completed Epoch  36\n",
      "Completed Epoch  37\n",
      "Completed Epoch  38\n",
      "Completed Epoch  39\n",
      "Completed Epoch  40\n",
      "Completed Epoch  41\n",
      "Completed Epoch  42\n",
      "Completed Epoch  43\n",
      "Completed Epoch  44\n",
      "Completed Epoch  45\n",
      "Completed Epoch  46\n",
      "Completed Epoch  47\n",
      "Completed Epoch  48\n",
      "Completed Epoch  49\n",
      "Completed Epoch  50\n",
      "Completed Epoch  51\n",
      "Completed Epoch  52\n",
      "Completed Epoch  53\n",
      "Completed Epoch  54\n",
      "Completed Epoch  55\n",
      "Completed Epoch  56\n",
      "Completed Epoch  57\n",
      "Completed Epoch  58\n",
      "Completed Epoch  59\n",
      "Completed Epoch  60\n",
      "Completed Epoch  61\n",
      "Completed Epoch  62\n",
      "Completed Epoch  63\n",
      "Completed Epoch  64\n",
      "Completed Epoch  65\n",
      "Completed Epoch  66\n",
      "Completed Epoch  67\n",
      "Completed Epoch  68\n",
      "Completed Epoch  69\n",
      "Completed Epoch  70\n",
      "Completed Epoch  71\n",
      "Completed Epoch  72\n",
      "Completed Epoch  73\n",
      "Completed Epoch  74\n",
      "Completed Epoch  75\n",
      "Completed Epoch  76\n",
      "Completed Epoch  77\n",
      "Completed Epoch  78\n",
      "Completed Epoch  79\n",
      "Completed Epoch  80\n",
      "Completed Epoch  81\n",
      "Completed Epoch  82\n",
      "Completed Epoch  83\n",
      "Completed Epoch  84\n",
      "Completed Epoch  85\n",
      "Completed Epoch  86\n",
      "Completed Epoch  87\n",
      "Completed Epoch  88\n",
      "Completed Epoch  89\n",
      "Completed Epoch  90\n",
      "Completed Epoch  91\n",
      "Completed Epoch  92\n",
      "Completed Epoch  93\n",
      "Completed Epoch  94\n",
      "Completed Epoch  95\n",
      "Completed Epoch  96\n",
      "Completed Epoch  97\n",
      "Completed Epoch  98\n",
      "Completed Epoch  99\n"
     ]
    }
   ],
   "source": [
    "epochs = 100\n",
    "\n",
    "train_loss_epoch = np.zeros(epochs)\n",
    "test_loss_epoch = np.zeros(epochs)\n",
    "\n",
    "N_train = len( train_data )\n",
    "N_test = len( test_data )\n",
    "\n",
    "\n",
    "\n",
    "for epoch in range(epochs):\n",
    "  train_running_loss = 0.0\n",
    "  test_running_loss = 0.0\n",
    "  \n",
    "  # training for one epoch\n",
    "  model.train()\n",
    "  for inputs, labels in train_loader:\n",
    "    inputs, labels = inputs.to(device), labels.to(device)\n",
    "    # set optimizer to zero grad to remove previous epoch gradients\n",
    "    optimizer.zero_grad()\n",
    "    # forward propagation\n",
    "    outputs = model(inputs)\n",
    "    loss = criterion(outputs, labels)\n",
    "    # backward propagation\n",
    "    loss.backward()\n",
    "    # optimize\n",
    "    optimizer.step()\n",
    "    train_running_loss += loss.item()\n",
    "\n",
    "  # out-of-sample performance for one epoch of training\n",
    "  model.eval()\n",
    "  with torch.no_grad():\n",
    "    for test_inputs, test_labels in test_loader:\n",
    "      test_inputs, test_labels = test_inputs.to(device), test_labels.to(device)\n",
    "      test_outputs = model( test_inputs )\n",
    "      test_loss = criterion( test_outputs, test_labels )\n",
    "      test_running_loss = test_loss.item() * test_labels.size(0)\n",
    "\n",
    "  train_loss_epoch[epoch] = train_running_loss / len( train_loader ) \n",
    "  test_loss_epoch[epoch]  = test_running_loss / len( test_loader )\n",
    "  print(\"Completed Epoch \", epoch)\n",
    "\n"
   ]
  },
  {
   "cell_type": "code",
   "execution_count": 13,
   "metadata": {},
   "outputs": [
    {
     "data": {
      "image/png": "[encoded data removed]",
      "text/plain": [
       "<Figure size 1440x360 with 2 Axes>"
      ]
     },
     "metadata": {
      "needs_background": "light"
     },
     "output_type": "display_data"
    }
   ],
   "source": [
    "import matplotlib as mpl\n",
    "import matplotlib.pyplot as plt\n",
    "\n",
    "fig, (ax1, ax2) = plt.subplots( 1,2, figsize = (20, 5) )\n",
    "ax1.plot( list(range(0,len(train_loss_epoch))), train_loss_epoch )\n",
    "ax2.plot( list(range(0,len(train_loss_epoch))), test_loss_epoch )\n",
    "ax1.title.set_text('Train Loss')\n",
    "ax2.title.set_text('Test Loss')"
   ]
  },
  {
   "cell_type": "code",
   "execution_count": null,
   "metadata": {},
   "outputs": [],
   "source": [
    "# save network state for later re-use\n",
    "PATH = '../net-states/testing-only.pth'\n",
    "torch.save(clf.state_dict(), PATH)\n"
   ]
  },
  {
   "cell_type": "code",
   "execution_count": null,
   "metadata": {},
   "outputs": [],
   "source": [
    "\n",
    "# load network state \n",
    "clf = None\n",
    "\n",
    "clf = Network()\n",
    "clf.load_state_dict( torch.load(PATH))\n",
    "\n"
   ]
  },
  {
   "cell_type": "code",
   "execution_count": null,
   "metadata": {},
   "outputs": [],
   "source": [
    "# instantiate data loader for test data\n",
    "testdata = Data(X_test, Y_test)\n",
    "testloader = DataLoader(testdata, batch_size=batch_size, \n",
    "                        shuffle=True, num_workers=2)"
   ]
  },
  {
   "cell_type": "code",
   "execution_count": null,
   "metadata": {},
   "outputs": [],
   "source": [
    "# a single run of inference / forward prop only\n",
    "outputs = clf(inputs)\n",
    "print( outputs )"
   ]
  },
  {
   "cell_type": "code",
   "execution_count": null,
   "metadata": {},
   "outputs": [],
   "source": [
    "# apply max over 3 tuple (outputs) -- note, indexing starts at 0, so remember to add one\n",
    "\n",
    "__, predicted = torch.max(outputs, dim = 1)\n",
    "print(predicted)\n"
   ]
  },
  {
   "cell_type": "code",
   "execution_count": null,
   "metadata": {},
   "outputs": [],
   "source": [
    "# complete run through testing data set\n",
    "\n",
    "correct, total = 0, 0\n",
    "# no need to calculate gradients during inference\n",
    "with torch.no_grad():\n",
    "  for data in testloader:\n",
    "    inputs, labels = data\n",
    "    # calculate output by running through the network\n",
    "    outputs = clf(inputs)\n",
    "    # get the predictions\n",
    "    __, predicted = torch.max(outputs.data, 1)\n",
    "    # update results\n",
    "    total += labels.size(0)\n",
    "    correct += (predicted == labels).sum().item()\n",
    "print(f'Accuracy of the network on the {len(testdata)} test data: {100 * correct // total} %')"
   ]
  }
 ],
 "metadata": {
  "kernelspec": {
   "display_name": "explain-paper",
   "language": "python",
   "name": "explain-paper"
  },
  "language_info": {
   "codemirror_mode": {
    "name": "ipython",
    "version": 3
   },
   "file_extension": ".py",
   "mimetype": "text/x-python",
   "name": "python",
   "nbconvert_exporter": "python",
   "pygments_lexer": "ipython3",
   "version": "3.6.9"
  },
  "orig_nbformat": 4,
  "vscode": {
   "interpreter": {
    "hash": "31f2aee4e71d21fbe5cf8b01ff0e069b9275f58929596ceb00d14d90e3e16cd6"
   }
  }
 },
 "nbformat": 4,
 "nbformat_minor": 2
}
